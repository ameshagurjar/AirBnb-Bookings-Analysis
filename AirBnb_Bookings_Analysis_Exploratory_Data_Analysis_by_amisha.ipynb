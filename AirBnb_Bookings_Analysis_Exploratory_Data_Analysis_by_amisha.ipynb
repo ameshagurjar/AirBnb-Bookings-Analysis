{
  "nbformat": 4,
  "nbformat_minor": 0,
  "metadata": {
    "colab": {
      "private_outputs": true,
      "provenance": [],
      "collapsed_sections": [
        "w6K7xa23Elo4",
        "JlHwYmJAmNHm",
        "MSa1f5Uengrz",
        "GF8Ens_Soomf",
        "0wOQAZs5pc--",
        "K5QZ13OEpz2H",
        "lQ7QKXXCp7Bj",
        "448CDAPjqfQr",
        "KSlN3yHqYklG",
        "t6dVpIINYklI",
        "ijmpgYnKYklI",
        "-JiQyfWJYklI",
        "EM7whBJCYoAo",
        "fge-S5ZAYoAp",
        "85gYPyotYoAp",
        "RoGjAbkUYoAp",
        "4Of9eVA-YrdM",
        "iky9q4vBYrdO",
        "F6T5p64dYrdO",
        "y-Ehk30pYrdP",
        "bamQiAODYuh1",
        "QHF8YVU7Yuh3",
        "GwzvFGzlYuh3",
        "qYpmQ266Yuh3",
        "OH-pJp9IphqM",
        "bbFf2-_FphqN",
        "_ouA3fa0phqN",
        "Seke61FWphqN",
        "PIIx-8_IphqN",
        "t27r6nlMphqO",
        "r2jJGEOYphqO",
        "b0JNsNcRphqO",
        "BZR9WyysphqO",
        "jj7wYXLtphqO",
        "eZrbJ2SmphqO",
        "rFu4xreNphqO",
        "YJ55k-q6phqO",
        "gCFgpxoyphqP",
        "OVtJsKN_phqQ",
        "lssrdh5qphqQ",
        "U2RJ9gkRphqQ",
        "1M8mcRywphqQ",
        "tgIPom80phqQ",
        "JMzcOPDDphqR",
        "x-EpHcCOp1ci",
        "X_VqEhTip1ck",
        "8zGJKyg5p1ck",
        "PVzmfK_Ep1ck",
        "n3dbpmDWp1ck",
        "ylSl6qgtp1ck",
        "ZWILFDl5p1ck",
        "M7G43BXep1ck",
        "Ag9LCva-p1cl",
        "E6MkPsBcp1cl",
        "2cELzS2fp1cl",
        "3MPXvC8up1cl",
        "NC_X3p0fY2L0",
        "UV0SzAkaZNRQ",
        "YPEH6qLeZNRQ",
        "q29F0dvdveiT",
        "EXh0U9oCveiU",
        "22aHeOlLveiV",
        "JcMwzZxoAimU",
        "8G2x9gOozGDZ",
        "gCX9965dhzqZ",
        "gIfDvo9L0UH2"
      ],
      "cell_execution_strategy": "setup"
    },
    "kernelspec": {
      "name": "python3",
      "display_name": "Python 3"
    },
    "language_info": {
      "name": "python"
    }
  },
  "cells": [
    {
      "cell_type": "markdown",
      "source": [
        "# **Project Name**    -\n",
        "\n"
      ],
      "metadata": {
        "id": "vncDsAP0Gaoa"
      }
    },
    {
      "cell_type": "markdown",
      "source": [
        "##### **Project Type**    - EDA/Regression/Classification/Unsupervised\n",
        "##### **Contribution**    - Individual\n",
        "##### **Submitted by**      -amisha gurjar  "
      ],
      "metadata": {
        "id": "beRrZCGUAJYm"
      }
    },
    {
      "cell_type": "markdown",
      "source": [
        "# **Project Summary -**"
      ],
      "metadata": {
        "id": "FJNUwmbgGyua"
      }
    },
    {
      "cell_type": "markdown",
      "source": [
        "A multidimensional set of stakeholders, including hosts, property managers, data analysts, researchers, and Airbnb itself, will benefit from an exploratory data analysis (EDA) of the data from Airbnb. The following are some major goals for conducting an EDA on Airbnb data:\n",
        "\n",
        "\n",
        "1. **Recognizing Data Quality**: EDA aids in evaluating the accuracy of the Airbnb data by spotting problems like missing numbers, outliers, and inconsistent data. For reliable analysis, it is essential to ensure data integrity.\n",
        "2. **Providing Pricing Strategies**: EDA offers tips on pricing tactics to hosts and property managers. The optimization of nightly rates to maximize income can be accomplished by analyzing previous pricing data and seasonal trends.\n",
        "3. **Increasing Customer Satisfaction** :Through EDA, hosts can identify elements of their listings that contribute to satisfying visitor experiences. Analyzing elements like facilities, cleanliness, and guest relations might be part of this.\n",
        "\n",
        "4. **Market Insights:** EDA assists investors and property owners in gaining knowledge of the neighborhood Airbnb market. Making judgments regarding buying and investing in real estate can be influenced by an analysis of listing density, property kinds, and occupancy rates.\n",
        "\n",
        "\n",
        "\n",
        "5. **Seasonal Trends**: EDA exposes seasonal booking patterns, allowing hosts to modify their plans for busy and slow times of the year. This could entail altering prices, presenting discounts, or improving listing descriptions.\n",
        "\n",
        "\n",
        "\n",
        "6. **Recognizing Competitive Advantages**: EDA can be used by hosts to identify what distinguishes their properties from rivals. Analyzing the distinctive services, settings, or qualities that draw visitors may be necessary for this.\n",
        "\n",
        "7. **Targeted Marketing**: EDA offers information on the characteristics and preferences of Airbnb visitors. For marketing campaigns that target particular passenger kinds, this data may be useful.\n",
        "\n",
        "\n",
        "\n",
        "8. **User evaluations and rankings** User reviews can be subjected to sentiment analysis and EDA to find common themes and sentiment patterns. Using this data, hosts can focus on improving problem areas and increasing visitor happiness.\n",
        "\n",
        "\n",
        "\n",
        "9. **Compliance with policies and regulations**: EDA can be used by hosts and property managers to guarantee compliance with local laws and limits in areas where Airbnb regulations are in place.\n",
        "\n",
        "10. **Academic research and study**: Researchers and academics can use Airbnb data to do EDA in order to investigate how short-term rentals affect real estate markets, regional economics, and tourism. It can be used to investigate gentrification trends and housing affordability issues.\n",
        "\n",
        "\n",
        "\n",
        "11. **Platform Enhancements** By examining user behavior, trends, and reviews, EDA can help Airbnb. These insights can influence marketing tactics, policy alterations, and platform upgrades.\n",
        "\n",
        "12. **Decision-Making Driven by Data**: Overall, Airbnb EDA's main goal is to make data-driven decision-making possible. EDA provides the framework for wise decisions in the Airbnb ecosystem, whether it be regarding pricing optimization, increasing guest satisfaction, or making strategic investments.\n",
        "\n"
      ],
      "metadata": {
        "id": "CFMqP6GCHTWT"
      }
    },
    {
      "cell_type": "markdown",
      "source": [
        "# **GitHub Link -**"
      ],
      "metadata": {
        "id": "w6K7xa23Elo4"
      }
    },
    {
      "cell_type": "markdown",
      "source": [
        "Provide your GitHub Link here."
      ],
      "metadata": {
        "id": "h1o69JH3Eqqn"
      }
    },
    {
      "cell_type": "markdown",
      "source": [
        "# **Problem Statement**\n"
      ],
      "metadata": {
        "id": "yQaldy8SH6Dl"
      }
    },
    {
      "cell_type": "markdown",
      "source": [
        "*Analyze the Airbnb data for a certain area.\n",
        "\n",
        "*Recognize seasonal changes and pricing patterns.\n",
        "\n",
        "*Determine the variables that affect occupancy rates.\n",
        "\n",
        "*Analyze customer feedback to raise customer satisfaction.\n",
        "\n",
        "*Analyze the market's competitive dynamics.\n",
        "\n",
        "*Provide hosts and property managers with useful insights."
      ],
      "metadata": {
        "id": "PhHv_tbxH0bU"
      }
    },
    {
      "cell_type": "markdown",
      "source": [
        "#### **Define Your Business Objective?**"
      ],
      "metadata": {
        "id": "PH-0ReGfmX4f"
      }
    },
    {
      "cell_type": "markdown",
      "source": [
        "EDA (Exploratory Data Analysis) on Airbnb's business purpose is to use data insights to accomplish the following objectives:\n",
        "\n",
        "1. **Optimize Host Revenue**: Hosts can increase their revenue by comprehending price trends, seasonal patterns, and elements affecting occupancy rates.\n",
        "\n",
        "\n",
        "\n",
        "2. **Boost visitor satisfaction**: Analyzing customer feedback and reviews enables hosts to enhance their listings, resulting in improved customer satisfaction and higher ratings.\n",
        "\n",
        "\n",
        "\n",
        "3. **Obtain a competitive advantage**: By developing distinctive selling propositions and tactical upgrades, EDA enables hosts and property managers to stand out in a crowded market.\n",
        "\n",
        "\n",
        "\n",
        "4. **Provide Guidance for Data-Driven Decisions**: In order to get better results, hosts can make educated decisions about pricing tactics, property improvements, and marketing initiatives.\n",
        "\n",
        "\n",
        "\n",
        "The overall goal is to promote business success for Airbnb ecosystem participants and hosts.\n",
        "\n",
        "\n",
        "\n",
        "\n",
        "\n",
        "\n",
        "\n"
      ],
      "metadata": {
        "id": "JpJVIfsEICS1"
      }
    },
    {
      "cell_type": "markdown",
      "source": [
        "# ***Let's Begin !***"
      ],
      "metadata": {
        "id": "O_i_v8NEhb9l"
      }
    },
    {
      "cell_type": "markdown",
      "source": [
        "## ***1. Know Your Data***"
      ],
      "metadata": {
        "id": "HhfV-JJviCcP"
      }
    },
    {
      "cell_type": "markdown",
      "source": [
        "### Import Libraries"
      ],
      "metadata": {
        "id": "Y3lxredqlCYt"
      }
    },
    {
      "cell_type": "code",
      "source": [
        "# Import Libraries\n",
        "import pandas as pd\n",
        "import numpy as np\n",
        "import matplotlib.pyplot as plt\n",
        "import seaborn as sns"
      ],
      "metadata": {
        "id": "IGkDRzaEIZ6e"
      },
      "execution_count": null,
      "outputs": []
    },
    {
      "cell_type": "code",
      "source": [
        "#Mount google drive for access the dataset of Airbnb\n",
        "from google.colab import drive\n",
        "drive.mount('/content/drive')"
      ],
      "metadata": {
        "id": "nW6UxFQYQZzG"
      },
      "execution_count": null,
      "outputs": []
    },
    {
      "cell_type": "code",
      "source": [
        "from google.colab import drive\n",
        "drive.mount('/content/drive')"
      ],
      "metadata": {
        "id": "J0wDEqvbJmLm"
      },
      "execution_count": null,
      "outputs": []
    },
    {
      "cell_type": "markdown",
      "source": [
        "### Dataset Loading"
      ],
      "metadata": {
        "id": "3RnN4peoiCZX"
      }
    },
    {
      "cell_type": "code",
      "source": [
        "# Load Dataset\n",
        "df=pd.read_csv(\"/content/drive/MyDrive/dataset/Airbnb NYC 2019 (3).csv\")"
      ],
      "metadata": {
        "id": "4CkvbW_SlZ_R"
      },
      "execution_count": null,
      "outputs": []
    },
    {
      "cell_type": "markdown",
      "source": [
        "### Dataset First View"
      ],
      "metadata": {
        "id": "x71ZqKXriCWQ"
      }
    },
    {
      "cell_type": "code",
      "source": [
        "# Dataset First Look\n",
        "df.head(5)"
      ],
      "metadata": {
        "id": "_zaorO1BKtCe"
      },
      "execution_count": null,
      "outputs": []
    },
    {
      "cell_type": "markdown",
      "source": [
        "### Dataset Rows & Columns count"
      ],
      "metadata": {
        "id": "7hBIi_osiCS2"
      }
    },
    {
      "cell_type": "code",
      "source": [
        "# Dataset Rows & Columns count\n",
        "#knowing the shape of our set (rows,columns)\n",
        "df.shape"
      ],
      "metadata": {
        "id": "gd4-KM1hLI-Z"
      },
      "execution_count": null,
      "outputs": []
    },
    {
      "cell_type": "code",
      "source": [
        "print(df.index)\n",
        "print(df.columns)"
      ],
      "metadata": {
        "id": "otsmdbuEPl9l"
      },
      "execution_count": null,
      "outputs": []
    },
    {
      "cell_type": "markdown",
      "source": [
        "### Dataset Information"
      ],
      "metadata": {
        "id": "JlHwYmJAmNHm"
      }
    },
    {
      "cell_type": "code",
      "source": [
        "# Dataset Info\n",
        "#returns the information about our dataset like the number of columns, column labels, column data types, memory usage,\n",
        "# range index, and the number of cells in each column (non-null values),etc.\n",
        "df.info()"
      ],
      "metadata": {
        "id": "ZUB70gfLLlNZ"
      },
      "execution_count": null,
      "outputs": []
    },
    {
      "cell_type": "markdown",
      "source": [
        "### What did you know about your dataset?"
      ],
      "metadata": {
        "id": "H0kj-8xxnORC"
      }
    },
    {
      "cell_type": "markdown",
      "source": [
        "Airbnb is a community built on a sharing economy. It is an online platform that allows property owners to list their place as holiday accommodation and allows travellers to find a place to stay while they are away from home."
      ],
      "metadata": {
        "id": "3F2j_uzuwIDt"
      }
    },
    {
      "cell_type": "markdown",
      "source": [
        "We have a Airbnb dataset consisting of 48895 rows and 16 columns.It is a mix of categorical and numeric values.Data analysis on millions of listings provided through Airbnb is a crucial factor for the company. These millions of listings generate a lot of data- data that can be analysed and used for security, business decisions ,understanding of customers and providers(hosts), behviourand performance on the platform ,guiding market intiatives, implementation of innovation additional services and much more.\n"
      ],
      "metadata": {
        "id": "gfoNAAC-nUe_"
      }
    },
    {
      "cell_type": "markdown",
      "source": [
        "## ***2. Understanding Your Variables***"
      ],
      "metadata": {
        "id": "nA9Y7ga8ng1Z"
      }
    },
    {
      "cell_type": "code",
      "source": [
        "# list of our Dataset Columns\n",
        "list(df.columns)"
      ],
      "metadata": {
        "id": "j7xfkqrt5Ag5"
      },
      "execution_count": null,
      "outputs": []
    },
    {
      "cell_type": "markdown",
      "source": [
        "##Description of dataset##"
      ],
      "metadata": {
        "id": "bl3N1-3Gqpkt"
      }
    },
    {
      "cell_type": "markdown",
      "source": [
        "1. **id**: Unique ID\n",
        "2. **name**: Name of the listing\n",
        "3. **host_id**: Unique host id\n",
        "4. **host_name**: Name of the host\n",
        "5. **neighbourhood_group**: area\n",
        "6. **latitude**: Latitude range\n",
        "7. **longitude**: Longitude range\n",
        "8. **room_type**: Type of listing\n",
        "9. **price**: Price of listing\n",
        "10. **minimum_nights**: Minimum nights to be paid for\n",
        "11. **Number_of_reviews**: Number of reviews\n",
        "12. **last_review**: Content of last review\n",
        "13. **reviews_per_month**: Number of checks per month\n",
        "14. **calculated_host_listing_count**: Total count\n",
        "15. **availability_365**: Availability around the year\n"
      ],
      "metadata": {
        "id": "kwAqmsr1pBAJ"
      }
    },
    {
      "cell_type": "code",
      "source": [
        "# Dataset Describe using .describe() for calculating some statistical data\n",
        "df.describe()"
      ],
      "metadata": {
        "id": "DnOaZdaE5Q5t"
      },
      "execution_count": null,
      "outputs": []
    },
    {
      "cell_type": "code",
      "source": [
        "#dropping columns\n",
        "df2=df.drop([\"latitude\",\"longitude\"],axis=1)\n",
        "df2.head(5)"
      ],
      "metadata": {
        "id": "ygxrgRZANdaf"
      },
      "execution_count": null,
      "outputs": []
    },
    {
      "cell_type": "code",
      "source": [
        "#now knowing the shape of our new dataset after dropping columns\n",
        "df2.shape"
      ],
      "metadata": {
        "id": "j6mwFEj5rR6b"
      },
      "execution_count": null,
      "outputs": []
    },
    {
      "cell_type": "code",
      "source": [
        "df2.isnull().sum()"
      ],
      "metadata": {
        "id": "fvoWoG1Lstho"
      },
      "execution_count": null,
      "outputs": []
    },
    {
      "cell_type": "code",
      "source": [
        "#dropping null values rows using dropna() function\n",
        "new_df=df2.dropna()"
      ],
      "metadata": {
        "id": "ZcU539MzwyY4"
      },
      "execution_count": null,
      "outputs": []
    },
    {
      "cell_type": "code",
      "source": [
        "#shape of the new dataframme\n",
        "new_df.shape"
      ],
      "metadata": {
        "id": "3_jHfN7IszXX"
      },
      "execution_count": null,
      "outputs": []
    },
    {
      "cell_type": "markdown",
      "source": [
        "##Now we will be answering a few questions and do further analysis##\n",
        "\n",
        "* How does the price of Airbnb listings vary by location (city or neighborhood)?\n",
        "\n",
        "* Which is the most preferred location?\n",
        "\n",
        "* What is the average preferred price by customers according to the location?\n",
        "\n",
        "* Most demanded host as per the location\n",
        "\n",
        "* Which neighborhoods have the most Airbnb listings within each neighborhood group?\n",
        "\n",
        "* What is the maximum and minimum price at a location?\n",
        "\n",
        "* Which roomtype is most referred by hosts ?\n",
        "\n",
        "* Comparing the availabilty of hosts\n",
        "\n",
        "* Which host offers the economical prices (between 100 and 250)?\n",
        "\n",
        "* What are the top 10 neighborhoods with the highest average nightly prices for accommodations, as depicted in the 'Average Nightly Price by Neighborhood' plot?\n",
        "\n",
        "* Relation between neighbourhood group and availability of rooms\n",
        "\n",
        "And also, we will be\n",
        "\n",
        "Visualizing the correlation between various numerical features in our Airbnb dataset, using a heatmap."
      ],
      "metadata": {
        "id": "Z-AzLfKvgZfO"
      }
    },
    {
      "cell_type": "markdown",
      "source": [
        "## 3. ***Data Wrangling***"
      ],
      "metadata": {
        "id": "dauF4eBmngu3"
      }
    },
    {
      "cell_type": "markdown",
      "source": [
        "### Data Wrangling Code"
      ],
      "metadata": {
        "id": "bKJF3rekwFvQ"
      }
    },
    {
      "cell_type": "markdown",
      "source": [
        "How does the price of Airbnb listings vary by location (city or neighborhood)?\n",
        "\n",
        "\n",
        "\n"
      ],
      "metadata": {
        "id": "wk-9a2fpoLcV"
      }
    },
    {
      "cell_type": "code",
      "source": [
        "#grouping by on the basis of location and aggreggating price with the operation of var\n",
        "price_variation=new_df.groupby([\"neighbourhood_group\"])[\"price\"].var().sort_values(ascending=False).rename({\"neighbourhood_group\":\"location\"})\n",
        "price_variation.head(5)"
      ],
      "metadata": {
        "id": "I1ikSgjs26Lq"
      },
      "execution_count": null,
      "outputs": []
    },
    {
      "cell_type": "code",
      "source": [
        "#using scatter plot to depict the amount of variation\n",
        "plt.scatter(new_df[\"neighbourhood_group\"],new_df[\"price\"],color=\"red\")\n",
        "plt.xlabel(\"Location\")\n",
        "plt.ylabel(\"Price\")\n",
        "plt.show()"
      ],
      "metadata": {
        "id": "bhuU7txR6ORV"
      },
      "execution_count": null,
      "outputs": []
    },
    {
      "cell_type": "markdown",
      "source": [
        "**Inference**\n",
        "\n",
        "Queens shows the greatest variation among all the other locations, whereas Bronz shows the least variation in the price listings"
      ],
      "metadata": {
        "id": "idWisRV-79Tg"
      }
    },
    {
      "cell_type": "markdown",
      "source": [
        "Which is the most preferred location?\n",
        "\n",
        "\n",
        "\n"
      ],
      "metadata": {
        "id": "hss8BIRQ8rTl"
      }
    },
    {
      "cell_type": "code",
      "source": [
        "#using value counts function to get the most preferred location\n",
        "preferable_location=new_df.neighbourhood_group.value_counts().sort_values(ascending=False)\n",
        "pd.DataFrame(preferable_location)"
      ],
      "metadata": {
        "id": "NdvIamnm9fdg"
      },
      "execution_count": null,
      "outputs": []
    },
    {
      "cell_type": "code",
      "source": [
        "#pie chart to enhance the understanding of the above data\n",
        "plt.pie(preferable_location, labels=preferable_location.index, shadow = True)\n",
        "plt.title(\"Preferability as per the location\")\n",
        "plt.show()"
      ],
      "metadata": {
        "id": "fn74jC-N-oOX"
      },
      "execution_count": null,
      "outputs": []
    },
    {
      "cell_type": "markdown",
      "source": [
        "**Inference**\n",
        "\n",
        "\n",
        "Brooklyn is the most preferred location and Staten Island being the least preferred."
      ],
      "metadata": {
        "id": "vyC_fkFGJ1Q1"
      }
    },
    {
      "cell_type": "markdown",
      "source": [
        "What is the average preferred price by customers according to the location?"
      ],
      "metadata": {
        "id": "OIeM4XlDKkrv"
      }
    },
    {
      "cell_type": "code",
      "source": [
        "#grouping by location and aggregating the price to get the mean\n",
        "avg_preferred_price=new_df.groupby([\"neighbourhood_group\"])[\"price\"].mean().sort_values(ascending=False).rename({'neighbourhood_group':'Location','price':'Average Price'})\n",
        "pd.DataFrame(avg_preferred_price)"
      ],
      "metadata": {
        "id": "KLPwZWEaKoCj"
      },
      "execution_count": null,
      "outputs": []
    },
    {
      "cell_type": "code",
      "source": [
        "#plotting a bar graph for a better understanding\n",
        "plt.barh(avg_preferred_price.index,avg_preferred_price.values,color = \"hotpink\")\n",
        "plt.xlabel(\"Average preferred price\")\n",
        "plt.ylabel(\"Location\")\n",
        "plt.title(\"Average preferred price by customers according to the location\")\n",
        "plt.show()"
      ],
      "metadata": {
        "id": "cT32Chl-LoRD"
      },
      "execution_count": null,
      "outputs": []
    },
    {
      "cell_type": "markdown",
      "source": [
        "**Inferences**:\n",
        "\n",
        "* Mahattan has the highest average price, followed by Brooklyn.\n",
        "\n",
        "* Bronx has the least average pric."
      ],
      "metadata": {
        "id": "rJC0SIDdNp_K"
      }
    },
    {
      "cell_type": "markdown",
      "source": [
        "Most demanded host as per the location\n",
        "\n",
        "\n",
        "\n"
      ],
      "metadata": {
        "id": "FEuw8-HMM6UN"
      }
    },
    {
      "cell_type": "code",
      "source": [
        "# Find the host with the maximum count of listings\n",
        "host_counts = new_df['host_name'].value_counts()\n",
        "host_counts_df = pd.DataFrame({'host_name': host_counts.index, 'listing_count': host_counts.values})\n",
        "sorted_host_counts_df = host_counts_df.sort_values(by='listing_count', ascending=False)\n",
        "sorted_host_counts_df.head(5)\n"
      ],
      "metadata": {
        "id": "57N6TRlqU73X"
      },
      "execution_count": null,
      "outputs": []
    },
    {
      "cell_type": "code",
      "source": [
        "sorted_host_counts_df = sorted_host_counts_df.head(10)\n",
        "# Define a list of custom colors for each bar\n",
        "custom_colors = ['red', 'blue', 'green', 'purple', 'orange', 'cyan', 'magenta', 'yellow', 'brown', 'gray']\n",
        "# Creating a bar plot with custom colors for each bar\n",
        "plt.figure(figsize=(10, 6))\n",
        "bars = plt.bar(sorted_host_counts_df['host_name'].astype(str), sorted_host_counts_df['listing_count'], color=custom_colors)\n",
        "plt.xlabel('Host name')\n",
        "plt.ylabel('Number of Listings')\n",
        "plt.title('Top Hosts by Number of Listings')\n",
        "plt.xticks(rotation=45)  # Rotate x-axis labels for readability\n",
        "plt.legend(bars, sorted_host_counts_df['host_name'].astype(str), title='Host name')\n",
        "plt.tight_layout()\n",
        "plt.show()\n",
        "\n"
      ],
      "metadata": {
        "id": "C5b-OFTLfCHS"
      },
      "execution_count": null,
      "outputs": []
    },
    {
      "cell_type": "markdown",
      "source": [
        "**Inference**:\n",
        "\n",
        "Michael is the most demanded host, followed by David and John."
      ],
      "metadata": {
        "id": "dH8r11P7Oc81"
      }
    },
    {
      "cell_type": "markdown",
      "source": [
        "Which neighborhoods have the most Airbnb listings within each neighborhood group?"
      ],
      "metadata": {
        "id": "oGwrwlaKWHct"
      }
    },
    {
      "cell_type": "code",
      "source": [
        "# Group by \"neighbourhood_group\" and then count listings in each \"neighbourhood\" within the group\n",
        "area_df = new_df.groupby(\"neighbourhood_group\")[\"neighbourhood\"].value_counts().reset_index(name='listing_count')\n",
        "area_df = area_df.sort_values(by='listing_count', ascending=False)\n",
        "pd.DataFrame(area_df)\n"
      ],
      "metadata": {
        "id": "suO6GJqKWWOV"
      },
      "execution_count": null,
      "outputs": []
    },
    {
      "cell_type": "code",
      "source": [
        "top_neighborhoods_df = area_df.groupby(\"neighbourhood_group\").head(5)\n",
        "\n",
        "# Pivot the DataFrame for easier plotting\n",
        "pivot_df = top_neighborhoods_df.pivot(index=\"neighbourhood\", columns=\"neighbourhood_group\", values=\"listing_count\")\n",
        "\n",
        "# Create a horizontal bar chart using Pandas plot\n",
        "ax = pivot_df.plot(kind=\"bar\", figsize=(10, 6), color=plt.cm.viridis(np.linspace(0, 1, 5)))\n",
        "ax.set_xlabel('Number of Listings')\n",
        "ax.set_ylabel('Neighborhood')\n",
        "ax.set_title('Top Neighborhoods by Number of Listings within Each Group')\n",
        "ax.legend(title='Neighborhood Group', loc='upper right')\n",
        "\n",
        "plt.tight_layout()\n",
        "plt.show()\n"
      ],
      "metadata": {
        "id": "ZSLPlpqweheS"
      },
      "execution_count": null,
      "outputs": []
    },
    {
      "cell_type": "markdown",
      "source": [
        "What is the maximum and minimum price at a location?\n",
        "\n",
        "\n"
      ],
      "metadata": {
        "id": "bnA3npwyWW1t"
      }
    },
    {
      "cell_type": "code",
      "source": [
        "#getting the highest prices as per the location by grouping by on the basis of location\n",
        "highest_prices=new_df.groupby('neighbourhood_group',as_index=False)['price'].max().sort_values(['price'],ascending = False).rename(columns = {'price':'Highest price','neighbourhood_group':'Location'})\n",
        "highest_prices"
      ],
      "metadata": {
        "id": "KRPp_Q3PWWxt"
      },
      "execution_count": null,
      "outputs": []
    },
    {
      "cell_type": "code",
      "source": [
        "#getting the lowest prices as per the location by grouping by on the basis of location\n",
        "lowest_prices=new_df.groupby('neighbourhood_group',as_index=False)['price'].min().sort_values(['price'],ascending = True).rename(columns = {'price':'Lowest price','neighbourhood_group':'Location'})\n",
        "lowest_prices"
      ],
      "metadata": {
        "id": "nHj5M-LghSX6"
      },
      "execution_count": null,
      "outputs": []
    },
    {
      "cell_type": "code",
      "source": [
        "prices_merge=pd.merge(highest_prices,lowest_prices,on=\"Location\")\n",
        "prices_merge"
      ],
      "metadata": {
        "id": "sgpsoKQUzOWd"
      },
      "execution_count": null,
      "outputs": []
    },
    {
      "cell_type": "markdown",
      "source": [
        "**Inference**:\n",
        "\n",
        "Brooklyn offers the maximum price, whereas Bronx offers the least price."
      ],
      "metadata": {
        "id": "oQQe_-ovlpNy"
      }
    },
    {
      "cell_type": "markdown",
      "source": [
        "Which roomtype is most referred by hosts ?"
      ],
      "metadata": {
        "id": "7kGwKIRFWkCr"
      }
    },
    {
      "cell_type": "code",
      "source": [
        "# The code you provided will return a DataFrame of the top room type preferred by the maximum number of hosts.\n",
        "referred_roomtype=new_df.groupby(\"room_type\")[\"host_name\"].count().sort_values(ascending=False).reset_index()\n",
        "referred_roomtype.head()"
      ],
      "metadata": {
        "id": "3FPvCrTLg7dF"
      },
      "execution_count": null,
      "outputs": []
    },
    {
      "cell_type": "code",
      "source": [
        "explode_values=(0,0,0.2)      #specifying the explode values for each room type in pie chart\n",
        "plt.pie(referred_roomtype['host_name'],labels=referred_roomtype['room_type'],shadow=True,explode=explode_values)\n",
        "plt.title(\"The most preferred room type by hosts\")\n",
        "plt.legend()\n",
        "plt.show()"
      ],
      "metadata": {
        "id": "GzMDxlSY77ig"
      },
      "execution_count": null,
      "outputs": []
    },
    {
      "cell_type": "markdown",
      "source": [
        "**Inference**:\n",
        "\n",
        "Entire home/apt is the most referred room type by the hosts, shared rooms being the least referred."
      ],
      "metadata": {
        "id": "c24B6XN8l2mL"
      }
    },
    {
      "cell_type": "markdown",
      "source": [
        "Comparing the availabilty of hosts"
      ],
      "metadata": {
        "id": "vgd4L7jJXMJ4"
      }
    },
    {
      "cell_type": "code",
      "source": [
        "#hosts that are not available for the whole year i.e., with zero availability\n",
        "hosts_availability_0=new_df[new_df[\"availability_365\"]==0][[\"host_name\", \"availability_365\"]]\n",
        "hosts_availability_0"
      ],
      "metadata": {
        "id": "_JVGX1DNXYkX"
      },
      "execution_count": null,
      "outputs": []
    },
    {
      "cell_type": "code",
      "source": [
        "#hosts with zero availability (top 5)\n",
        "hosts_availability_0_counts=hosts_availability_0.groupby(\"host_name\")[\"availability_365\"].count().sort_values(ascending=False)\n",
        "top_5_hosts=pd.DataFrame(hosts_availability_0_counts.head(5))\n",
        "top_5_hosts"
      ],
      "metadata": {
        "id": "00Y9rqoS0C6m"
      },
      "execution_count": null,
      "outputs": []
    },
    {
      "cell_type": "code",
      "source": [
        "colors = ['skyblue', 'lightblue', 'deepskyblue', 'dodgerblue', 'royalblue']\n",
        "\n",
        "# Create a bar chart with different colors for each bar\n",
        "plt.figure(figsize=(10, 6))\n",
        "for i in range(len(top_5_hosts)):\n",
        "    plt.bar(top_5_hosts.index[i], top_5_hosts.values[i], color=colors[i])\n",
        "\n",
        "plt.xlabel(\"Host Name\")\n",
        "plt.ylabel(\"Number of Availability Values\")\n",
        "plt.title(\"Top 5 Hosts with Zero Availability\")\n",
        "plt.xticks(rotation=45)\n",
        "plt.show()"
      ],
      "metadata": {
        "id": "_E6WPLIB40X9"
      },
      "execution_count": null,
      "outputs": []
    },
    {
      "cell_type": "markdown",
      "source": [
        "**Inference**:\n",
        "\n",
        "Michael is the least available host,with the highest zero availability counts"
      ],
      "metadata": {
        "id": "N5bnCd3b1JNN"
      }
    },
    {
      "cell_type": "code",
      "source": [
        "#hosts available for more than half of the year,i.e., availability>183 days of the year\n",
        "hosts_availability_more_than_half_year=new_df[new_df['availability_365']>183][[\"host_name\", \"availability_365\"]]\n",
        "hosts_availability_more_than_half_year"
      ],
      "metadata": {
        "id": "lhfq__wsrTci"
      },
      "execution_count": null,
      "outputs": []
    },
    {
      "cell_type": "code",
      "source": [
        "#hosts with the most availabilty (top 5)\n",
        "hosts_availability_more_than_half_year_counts=hosts_availability_more_than_half_year.groupby(\"host_name\")[\"availability_365\"].count().sort_values(ascending=False)\n",
        "top_5_hosts=pd.DataFrame(hosts_availability_more_than_half_year_counts.head(5))\n",
        "top_5_hosts"
      ],
      "metadata": {
        "id": "6wErnetI1XL1"
      },
      "execution_count": null,
      "outputs": []
    },
    {
      "cell_type": "code",
      "source": [
        "colors = ['lightcoral', 'lightsalmon', 'lightpink', 'lightseagreen', 'lightsteelblue']\n",
        "# Create a bar chart with different colors for each bar\n",
        "plt.figure(figsize=(10, 6))\n",
        "for i in range(len(top_5_hosts)):\n",
        "    plt.bar(top_5_hosts.index[i], top_5_hosts.values[i], color=colors[i])\n",
        "\n",
        "plt.xlabel(\"Host Name\")\n",
        "plt.ylabel(\"Number of Availability Values\")\n",
        "plt.title(\"Top 5 Hosts with Most Availability\")\n",
        "plt.xticks(rotation=45)\n",
        "plt.show()"
      ],
      "metadata": {
        "id": "CuBOsbmu9fYw"
      },
      "execution_count": null,
      "outputs": []
    },
    {
      "cell_type": "markdown",
      "source": [
        "**Inference** :\n",
        "\n",
        "Sonder is the most available host,with the maximum availability counts"
      ],
      "metadata": {
        "id": "tpIVxv5U11dt"
      }
    },
    {
      "cell_type": "code",
      "source": [
        "#merging the dataframe of hosts with zero avilability and with more than 183 days of availability\n",
        "merged_df=pd.merge(hosts_availability_0,hosts_availability_more_than_half_year,how=\"outer\")\n",
        "merged_df"
      ],
      "metadata": {
        "id": "wK1jxS-QsNDG"
      },
      "execution_count": null,
      "outputs": []
    },
    {
      "cell_type": "code",
      "source": [
        "merged_df.shape"
      ],
      "metadata": {
        "id": "KmZODqEutzgY"
      },
      "execution_count": null,
      "outputs": []
    },
    {
      "cell_type": "markdown",
      "source": [
        "Which host offers the economical prices (between 100 and 250)?\n"
      ],
      "metadata": {
        "id": "YEK-hK4IXZPG"
      }
    },
    {
      "cell_type": "code",
      "source": [
        "economical_prices=new_df[(new_df['price'] >= 100) & (new_df['price'] <= 250)][[\"host_name\",\"price\"]].sort_values(by=\"price\",ascending=True)\n",
        "economical_prices"
      ],
      "metadata": {
        "id": "U57mJy-dX0U7"
      },
      "execution_count": null,
      "outputs": []
    },
    {
      "cell_type": "code",
      "source": [
        "#which host offers the most economical prices (top 5)\n",
        "hosts_offering_economical_prices=economical_prices.groupby(\"host_name\")[\"price\"].count().sort_values(ascending=False)\n",
        "hosts_offering_economical_prices.head(5)"
      ],
      "metadata": {
        "id": "XjZDRL3HAfY0"
      },
      "execution_count": null,
      "outputs": []
    },
    {
      "cell_type": "code",
      "source": [
        "#visual representation of the top 5 hosts offering economical prices\n",
        "plt.figure(figsize=(10, 6))\n",
        "plt.bar(hosts_offering_economical_prices.head(5).index, hosts_offering_economical_prices.head(5).values, color='lightgreen')\n",
        "plt.xlabel(\"Hosts Name\")\n",
        "plt.ylabel(\"Counts of Economical Prices\")\n",
        "plt.title(\"Top 5 Hosts Offering the Most Economical Prices\")\n",
        "plt.xticks(rotation=45)\n",
        "plt.show()"
      ],
      "metadata": {
        "id": "tgt5kxe6BAg6"
      },
      "execution_count": null,
      "outputs": []
    },
    {
      "cell_type": "markdown",
      "source": [
        "**Inference:**\n",
        "\n",
        " Michael offers most of the economical prices"
      ],
      "metadata": {
        "id": "qCnGioDkDw2L"
      }
    },
    {
      "cell_type": "markdown",
      "source": [
        "What are the top 10 neighborhoods with the highest average nightly prices for accommodations, as depicted in the 'Average Nightly Price by Neighborhood' plot?"
      ],
      "metadata": {
        "id": "KdkeG5G2FWWl"
      }
    },
    {
      "cell_type": "code",
      "source": [
        "average_prices_by_neighborhood = new_df.groupby('neighbourhood')['price'].mean().head(10)\n",
        "\n",
        "plt.figure(figsize=(10, 6))\n",
        "plt.plot(average_prices_by_neighborhood.index, average_prices_by_neighborhood.values, marker='o', color='blue')\n",
        "plt.xlabel('Neighborhood')\n",
        "plt.ylabel('Average Nightly Price')\n",
        "plt.title('Average Nightly Price by Neighborhood')\n",
        "plt.xticks(rotation=90)\n",
        "plt.grid(True)\n",
        "plt.show()"
      ],
      "metadata": {
        "id": "NzX9_3rIFX7G"
      },
      "execution_count": null,
      "outputs": []
    },
    {
      "cell_type": "markdown",
      "source": [
        "**Inferences:**\n",
        "\n",
        "Varied Neighborhood Prices: Prices vary significantly among the top 10 neighborhoods.\n",
        "\n",
        "Budget Consideration: Travelers can use this graph to consider budget-friendly options when choosing a neighborhood to stay in."
      ],
      "metadata": {
        "id": "2psLNbhtG9sP"
      }
    },
    {
      "cell_type": "markdown",
      "source": [
        "Relation between neighbourhood group and availability of rooms\n"
      ],
      "metadata": {
        "id": "2G5HG0EcMZSx"
      }
    },
    {
      "cell_type": "code",
      "source": [
        "plt.figure(figsize=(10,10))\n",
        "sns.set_style('white')\n",
        "\n",
        "ax = sns.boxplot(data=new_df, x='neighbourhood_group',y='availability_365',palette='plasma')\n",
        "\n",
        "# Naming the Chart\n",
        "ax.set_title('Relation between Neighbourhood group & Availability of rooms').set_fontsize('5')\n",
        "\n",
        "# Naming X & Y axis\n",
        "ax.set_ylabel('Availability 365 Days').set_fontsize('15')\n",
        "ax.set_xlabel('Neighbourhood Group').set_fontsize('15')\n",
        "\n",
        "#Adjusting Bar labels\n",
        "ax.set_xticklabels(ax.get_xticklabels(), size = '15')"
      ],
      "metadata": {
        "id": "adJGg0p_JqzO"
      },
      "execution_count": null,
      "outputs": []
    },
    {
      "cell_type": "markdown",
      "source": [
        "**Inference:**\n",
        "\n",
        "The boxplot shows how room availability (365 days) varies across different neighborhood groups. It highlights differences in median availability, spread, and potential outliers, aiding in understanding neighborhood-specific availability trends."
      ],
      "metadata": {
        "id": "BxeVy9lrM2ae"
      }
    },
    {
      "cell_type": "markdown",
      "source": [
        "Visualizing the correlation between various numerical features in our Airbnb dataset, using a heatmap."
      ],
      "metadata": {
        "id": "cJtJmhFwNjI6"
      }
    },
    {
      "cell_type": "code",
      "source": [
        "correlation_matrix = new_df.corr()\n",
        "plt.figure(figsize=(10, 8))\n",
        "sns.heatmap(correlation_matrix, annot=True, cmap='coolwarm', fmt=\".2f\", linewidths=0.5)\n",
        "plt.title('Correlation Heatmap for Airbnb Data')\n",
        "plt.show()"
      ],
      "metadata": {
        "id": "_b-fJnYLNIJd"
      },
      "execution_count": null,
      "outputs": []
    },
    {
      "cell_type": "markdown",
      "source": [
        "**Inference**\n",
        "\n",
        "Darker squares indicate stronger relationships, while lighter ones show weaker or no connections. It helps identify factors that may influence prices or other aspects of Airbnb listings."
      ],
      "metadata": {
        "id": "N772L31KN3Ho"
      }
    },
    {
      "cell_type": "markdown",
      "source": [
        "##Manipulations done and insights ##\n",
        "\n"
      ],
      "metadata": {
        "id": "x2FkyUviXBwY"
      }
    },
    {
      "cell_type": "markdown",
      "source": [
        "## 1.Data cleaning and preprocessing: ##\n",
        "   * Knew about the number of null values\n",
        "   * Removed the null values using dropna()\n",
        "   * Dropped the unecessary columns, i.e., the columns were not of our use for the further data analysis (here we dropped cols=latitue,longitude)\n",
        "\n",
        "## 2.Data analysis: ##\n",
        "   * Analysed our data using various functions and methods.\n",
        "   * For example, most demanded host, variation in prices with the location, maximum and minimum prices, hosts offering economical prices, etc.\n",
        "\n",
        "## 3.Exploratory Data Analysis (EDA): ##\n",
        "   * Conducted univariate analysis to understand distributions and trends in individual features.\n",
        "   *Performed bivariate analysis to explore relationships between pairs of variables.\n",
        "   *Utilized visualizations like histograms, scatter plots, and box plots for better insights.\n",
        "\n",
        "## 4.Correlation Analysis: ##\n",
        "   * Investigated correlations between numerical features to identify potential relationships.\n",
        "\n",
        "\n",
        "\n",
        "   "
      ],
      "metadata": {
        "id": "PpJs0I8vtbSS"
      }
    },
    {
      "cell_type": "markdown",
      "source": [
        "## **4.How can this analysis help with the business objectives?**"
      ],
      "metadata": {
        "id": "lJ9i-tJ7XjM4"
      }
    },
    {
      "cell_type": "markdown",
      "source": [
        "Our analysis on Airbnb dataset can help with the business purposes in the following ways:\n",
        "\n",
        "**Pricing Optimization**: Set competitive pricing strategies.\n",
        "\n",
        "**Market Segmentation**: Tailor offerings to different customer groups.\n",
        "\n",
        "**Property Investment**: Identify profitable neighborhoods.\n",
        "\n",
        "**Competitor Analysis**: Understand the competitive landscape.\n",
        "\n",
        "**Occupancy Forecasting**: Predict future occupancy rates.\n",
        "\n",
        "**Customer Satisfaction**: Improve service quality based on reviews.\n",
        "\n",
        "**Marketing Insights**: Target marketing efforts effectively.\n",
        "\n",
        "**Regulatory Compliance**: Ensure compliance with local laws.\n",
        "\n",
        "**Property Management**: Address maintenance and cleanliness issues.\n",
        "\n",
        "**Expansion Planning**: Identify growth opportunities in new markets.\n"
      ],
      "metadata": {
        "id": "Jz9_twcmXp7T"
      }
    },
    {
      "cell_type": "markdown",
      "source": [
        "# **Conclusion**"
      ],
      "metadata": {
        "id": "gCX9965dhzqZ"
      }
    },
    {
      "cell_type": "markdown",
      "source": [
        "Following are the few coclusions that can be drawn from our analysis:\n",
        "\n",
        "1. Queens(name of listings) listings show the greatest variation in prices with the location.\n",
        "\n",
        "2. Brooklyn is the most preferred location and Staten Island being the least preferred.\n",
        "\n",
        "3. Mahattan(location) has the highest average price.\n",
        "\n",
        "4. Michael(host) is the most demanded host.\n",
        "\n",
        "5. Entire home/apt(room type) is the most referred room type by the hosts, shared rooms being the least referred.\n",
        "\n",
        "6. Michael(host) offers most of the economical prices.\n",
        "\n",
        "7. Sonder is the most available host.\n",
        "\n"
      ],
      "metadata": {
        "id": "NO_ZnXEIX4qM"
      }
    },
    {
      "cell_type": "markdown",
      "source": [
        "### ***Hurrah! You have successfully completed your EDA Capstone Project !!!***"
      ],
      "metadata": {
        "id": "gIfDvo9L0UH2"
      }
    }
  ]
}